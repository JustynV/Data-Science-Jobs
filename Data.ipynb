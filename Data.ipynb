{
 "cells": [
  {
   "cell_type": "code",
   "execution_count": null,
   "id": "45c56761",
   "metadata": {},
   "outputs": [
    {
     "name": "stdout",
     "output_type": "stream",
     "text": [
      "Note: you may need to restart the kernel to use updated packages.\n",
      "Note: you may need to restart the kernel to use updated packages.\n",
      "Note: you may need to restart the kernel to use updated packages.\n",
      "Note: you may need to restart the kernel to use updated packages.\n",
      "Note: you may need to restart the kernel to use updated packages.\n"
     ]
    }
   ],
   "source": [
    "%pip install -q --upgrade pip\n",
    "%pip install -q kagglehub[pandas-datasets]\n",
    "%pip install -q matplotlib\n",
    "%pip install -q numpy\n",
    "%pip install -q pandas\n",
    "%pip install -q plotly"
   ]
  },
  {
   "cell_type": "code",
   "execution_count": 229,
   "id": "f6de8b35",
   "metadata": {},
   "outputs": [],
   "source": [
    "import kagglehub\n",
    "from kagglehub import KaggleDatasetAdapter\n",
    "import matplotlib.pyplot as plt\n",
    "import numpy as np\n",
    "import pandas as pd\n",
    "import plotly.express as px \n"
   ]
  },
  {
   "cell_type": "code",
   "execution_count": 246,
   "id": "271170ad",
   "metadata": {},
   "outputs": [
    {
     "name": "stderr",
     "output_type": "stream",
     "text": [
      "C:\\Users\\USUARIO\\AppData\\Local\\Temp\\ipykernel_5020\\779420366.py:5: DeprecationWarning:\n",
      "\n",
      "load_dataset is deprecated and will be removed in future version.\n",
      "\n"
     ]
    },
    {
     "name": "stdout",
     "output_type": "stream",
     "text": [
      "Warning: Looks like you're using an outdated `kagglehub` version (installed: 0.3.11), please consider upgrading to the latest version (0.3.13).\n",
      "944\n"
     ]
    },
    {
     "data": {
      "text/plain": [
       "['job_title',\n",
       " 'seniority_level',\n",
       " 'status',\n",
       " 'company',\n",
       " 'location',\n",
       " 'post_date',\n",
       " 'headquarter',\n",
       " 'industry',\n",
       " 'ownership',\n",
       " 'company_size',\n",
       " 'revenue',\n",
       " 'salary',\n",
       " 'skills']"
      ]
     },
     "execution_count": 246,
     "metadata": {},
     "output_type": "execute_result"
    }
   ],
   "source": [
    "# Set the path to the file you'd like to load\n",
    "file_path = \"data_science_job_posts_2025.csv\"\n",
    "\n",
    "# Load the latest version\n",
    "df = kagglehub.load_dataset(\n",
    "  KaggleDatasetAdapter.PANDAS,\n",
    "  \"elahehgolrokh/data-science-job-postings-with-salaries-2025\",\n",
    "  file_path,\n",
    ")\n",
    "\n",
    "print(len(df))\n",
    "list(df.columns)"
   ]
  },
  {
   "cell_type": "code",
   "execution_count": 245,
   "id": "0729bb82",
   "metadata": {},
   "outputs": [
    {
     "data": {
      "text/html": [
       "<div>\n",
       "<style scoped>\n",
       "    .dataframe tbody tr th:only-of-type {\n",
       "        vertical-align: middle;\n",
       "    }\n",
       "\n",
       "    .dataframe tbody tr th {\n",
       "        vertical-align: top;\n",
       "    }\n",
       "\n",
       "    .dataframe thead th {\n",
       "        text-align: right;\n",
       "    }\n",
       "</style>\n",
       "<table border=\"1\" class=\"dataframe\">\n",
       "  <thead>\n",
       "    <tr style=\"text-align: right;\">\n",
       "      <th></th>\n",
       "      <th>seniority_level</th>\n",
       "      <th>status</th>\n",
       "      <th>location</th>\n",
       "      <th>headquarter</th>\n",
       "      <th>industry</th>\n",
       "      <th>ownership</th>\n",
       "      <th>company_size</th>\n",
       "      <th>salary</th>\n",
       "      <th>skills</th>\n",
       "      <th>salary_range</th>\n",
       "    </tr>\n",
       "  </thead>\n",
       "  <tbody>\n",
       "    <tr>\n",
       "      <th>0</th>\n",
       "      <td>senior</td>\n",
       "      <td>hybrid</td>\n",
       "      <td>Grapevine, TX . Hybrid</td>\n",
       "      <td>Bentonville, AR, US</td>\n",
       "      <td>Retail</td>\n",
       "      <td>Public</td>\n",
       "      <td>€352.44B</td>\n",
       "      <td>150705</td>\n",
       "      <td>['spark', 'r', 'python', 'scala', 'machine lea...</td>\n",
       "      <td>140000-175000</td>\n",
       "    </tr>\n",
       "    <tr>\n",
       "      <th>1</th>\n",
       "      <td>lead</td>\n",
       "      <td>hybrid</td>\n",
       "      <td>Fort Worth, TX . Hybrid</td>\n",
       "      <td>Detroit, MI, US</td>\n",
       "      <td>Manufacturing</td>\n",
       "      <td>Public</td>\n",
       "      <td>155,030</td>\n",
       "      <td>118733</td>\n",
       "      <td>['spark', 'r', 'python', 'sql', 'machine learn...</td>\n",
       "      <td>105000-140000</td>\n",
       "    </tr>\n",
       "    <tr>\n",
       "      <th>2</th>\n",
       "      <td>senior</td>\n",
       "      <td>on-site</td>\n",
       "      <td>Austin, TX . Toronto, Ontario, Canada . Kirkla...</td>\n",
       "      <td>Redwood City, CA, US</td>\n",
       "      <td>Technology</td>\n",
       "      <td>Public</td>\n",
       "      <td>25,930</td>\n",
       "      <td>127273</td>\n",
       "      <td>['aws', 'git', 'python', 'docker', 'sql', 'mac...</td>\n",
       "      <td>105000-140000</td>\n",
       "    </tr>\n",
       "    <tr>\n",
       "      <th>3</th>\n",
       "      <td>senior</td>\n",
       "      <td>hybrid</td>\n",
       "      <td>Chicago, IL . Scottsdale, AZ . Austin, TX . Hy...</td>\n",
       "      <td>San Jose, CA, US</td>\n",
       "      <td>Technology</td>\n",
       "      <td>Public</td>\n",
       "      <td>34,690</td>\n",
       "      <td>153599</td>\n",
       "      <td>['sql', 'r', 'python']</td>\n",
       "      <td>140000-175000</td>\n",
       "    </tr>\n",
       "    <tr>\n",
       "      <th>4</th>\n",
       "      <td>NaN</td>\n",
       "      <td>on-site</td>\n",
       "      <td>On-site</td>\n",
       "      <td>Stamford, CT, US</td>\n",
       "      <td>Finance</td>\n",
       "      <td>Private</td>\n",
       "      <td>1,800</td>\n",
       "      <td>171254</td>\n",
       "      <td>[]</td>\n",
       "      <td>140000-175000</td>\n",
       "    </tr>\n",
       "    <tr>\n",
       "      <th>...</th>\n",
       "      <td>...</td>\n",
       "      <td>...</td>\n",
       "      <td>...</td>\n",
       "      <td>...</td>\n",
       "      <td>...</td>\n",
       "      <td>...</td>\n",
       "      <td>...</td>\n",
       "      <td>...</td>\n",
       "      <td>...</td>\n",
       "      <td>...</td>\n",
       "    </tr>\n",
       "    <tr>\n",
       "      <th>939</th>\n",
       "      <td>senior</td>\n",
       "      <td>NaN</td>\n",
       "      <td>Bengaluru, Karnataka, India</td>\n",
       "      <td>Armonk, NY, US</td>\n",
       "      <td>Technology</td>\n",
       "      <td>Public</td>\n",
       "      <td>524,598</td>\n",
       "      <td>43184</td>\n",
       "      <td>['pytorch', 'python', 'sql', 'machine learning...</td>\n",
       "      <td>35000-70000</td>\n",
       "    </tr>\n",
       "    <tr>\n",
       "      <th>940</th>\n",
       "      <td>senior</td>\n",
       "      <td>NaN</td>\n",
       "      <td>Melbourne, Victoria, Australia</td>\n",
       "      <td>Seattle, WA, US</td>\n",
       "      <td>Retail</td>\n",
       "      <td>Public</td>\n",
       "      <td>865,456</td>\n",
       "      <td>64290</td>\n",
       "      <td>['amazon', 'machine learning']</td>\n",
       "      <td>35000-70000</td>\n",
       "    </tr>\n",
       "    <tr>\n",
       "      <th>941</th>\n",
       "      <td>midlevel</td>\n",
       "      <td>on-site</td>\n",
       "      <td>McLean, VA</td>\n",
       "      <td>McLean, VA, US</td>\n",
       "      <td>Retail</td>\n",
       "      <td>Public</td>\n",
       "      <td>55,150</td>\n",
       "      <td>156207</td>\n",
       "      <td>['spark', 'aws', 'r', 'python', 'scala', 'sql'...</td>\n",
       "      <td>140000-175000</td>\n",
       "    </tr>\n",
       "    <tr>\n",
       "      <th>942</th>\n",
       "      <td>midlevel</td>\n",
       "      <td>on-site</td>\n",
       "      <td>New York, NY</td>\n",
       "      <td>McLean, VA, US</td>\n",
       "      <td>Retail</td>\n",
       "      <td>Public</td>\n",
       "      <td>55,110</td>\n",
       "      <td>170372</td>\n",
       "      <td>['spark', 'aws', 'r', 'python', 'scala', 'sql'...</td>\n",
       "      <td>140000-175000</td>\n",
       "    </tr>\n",
       "    <tr>\n",
       "      <th>943</th>\n",
       "      <td>senior</td>\n",
       "      <td>on-site</td>\n",
       "      <td>San Diego, CA</td>\n",
       "      <td>Mountain View, CA, US</td>\n",
       "      <td>Technology</td>\n",
       "      <td>Public</td>\n",
       "      <td>17,040</td>\n",
       "      <td>198706</td>\n",
       "      <td>['r', 'python', 'scala', 'sql', 'machine learn...</td>\n",
       "      <td>175000-210000</td>\n",
       "    </tr>\n",
       "  </tbody>\n",
       "</table>\n",
       "<p>944 rows × 10 columns</p>\n",
       "</div>"
      ],
      "text/plain": [
       "    seniority_level   status  \\\n",
       "0            senior   hybrid   \n",
       "1              lead   hybrid   \n",
       "2            senior  on-site   \n",
       "3            senior   hybrid   \n",
       "4               NaN  on-site   \n",
       "..              ...      ...   \n",
       "939          senior      NaN   \n",
       "940          senior      NaN   \n",
       "941        midlevel  on-site   \n",
       "942        midlevel  on-site   \n",
       "943          senior  on-site   \n",
       "\n",
       "                                              location            headquarter  \\\n",
       "0                               Grapevine, TX . Hybrid    Bentonville, AR, US   \n",
       "1                              Fort Worth, TX . Hybrid        Detroit, MI, US   \n",
       "2    Austin, TX . Toronto, Ontario, Canada . Kirkla...   Redwood City, CA, US   \n",
       "3    Chicago, IL . Scottsdale, AZ . Austin, TX . Hy...       San Jose, CA, US   \n",
       "4                                              On-site       Stamford, CT, US   \n",
       "..                                                 ...                    ...   \n",
       "939                        Bengaluru, Karnataka, India         Armonk, NY, US   \n",
       "940                     Melbourne, Victoria, Australia        Seattle, WA, US   \n",
       "941                                         McLean, VA         McLean, VA, US   \n",
       "942                                       New York, NY         McLean, VA, US   \n",
       "943                                      San Diego, CA  Mountain View, CA, US   \n",
       "\n",
       "          industry ownership company_size  salary  \\\n",
       "0           Retail    Public     €352.44B  150705   \n",
       "1    Manufacturing    Public      155,030  118733   \n",
       "2       Technology    Public       25,930  127273   \n",
       "3       Technology    Public       34,690  153599   \n",
       "4          Finance   Private        1,800  171254   \n",
       "..             ...       ...          ...     ...   \n",
       "939     Technology    Public      524,598   43184   \n",
       "940         Retail    Public      865,456   64290   \n",
       "941         Retail    Public       55,150  156207   \n",
       "942         Retail    Public       55,110  170372   \n",
       "943     Technology    Public       17,040  198706   \n",
       "\n",
       "                                                skills   salary_range  \n",
       "0    ['spark', 'r', 'python', 'scala', 'machine lea...  140000-175000  \n",
       "1    ['spark', 'r', 'python', 'sql', 'machine learn...  105000-140000  \n",
       "2    ['aws', 'git', 'python', 'docker', 'sql', 'mac...  105000-140000  \n",
       "3                               ['sql', 'r', 'python']  140000-175000  \n",
       "4                                                   []  140000-175000  \n",
       "..                                                 ...            ...  \n",
       "939  ['pytorch', 'python', 'sql', 'machine learning...    35000-70000  \n",
       "940                     ['amazon', 'machine learning']    35000-70000  \n",
       "941  ['spark', 'aws', 'r', 'python', 'scala', 'sql'...  140000-175000  \n",
       "942  ['spark', 'aws', 'r', 'python', 'scala', 'sql'...  140000-175000  \n",
       "943  ['r', 'python', 'scala', 'sql', 'machine learn...  175000-210000  \n",
       "\n",
       "[944 rows x 10 columns]"
      ]
     },
     "execution_count": 245,
     "metadata": {},
     "output_type": "execute_result"
    }
   ],
   "source": [
    "def toInt(nums):\n",
    "    nums = [n.replace(\",\", \"\") for n in nums]\n",
    "    nums = [int(n.replace(\"€\", \"\")) for n in nums]\n",
    "    return nums\n",
    "\n",
    "def promediate(nums):\n",
    "    nums = nums.split(\"-\")\n",
    "    nums = toInt(nums)\n",
    "    return int(sum(nums)/len(nums))\n",
    "\n",
    "def str_to_list(s):\n",
    "    s = s.translate(str.maketrans(\"\", \"\", \"'[]\"))\n",
    "    elements = s.split(\",\")\n",
    "    return [element.strip() for element in elements if len(elements) > 0]\n",
    "\n",
    "\n",
    "def ranges(salary):\n",
    "    if (salary<35000):\n",
    "        return \"<35000\"\n",
    "    elif (salary>=35000 and salary<70000):\n",
    "        return \"35000-70000\"\n",
    "    elif (salary>=70000 and salary<105000):\n",
    "        return \"700000-105000\"\n",
    "    elif (salary>=105000 and salary<140000):\n",
    "        return \"105000-140000\"\n",
    "    elif (salary>=140000 and salary<175000):\n",
    "        return \"140000-175000\"\n",
    "    elif (salary>=175000 and salary<210000):\n",
    "        return \"175000-210000\"\n",
    "    elif (salary>210000):\n",
    "        return \">210000\"\n",
    "    else:\n",
    "        return \"N/A\"\n",
    "    \n",
    "copydf = df.copy()\n",
    "copydf = copydf.drop(columns=[\"job_title\",\"company\",\"post_date\",\"revenue\"])\n",
    "copydf[\"salary\"] = copydf[\"salary\"].apply(promediate)\n",
    "copydf[\"salary_range\"] = copydf[\"salary\"].apply(ranges)\n",
    "copydf[[\"seniority_level\",\"status\",\"salary_range\",\"skills\"]]\n",
    "copydf"
   ]
  },
  {
   "cell_type": "code",
   "execution_count": null,
   "id": "651c18c4",
   "metadata": {},
   "outputs": [
    {
     "name": "stderr",
     "output_type": "stream",
     "text": [
      "C:\\Users\\USUARIO\\AppData\\Local\\Temp\\ipykernel_5020\\3592636173.py:2: SettingWithCopyWarning:\n",
      "\n",
      "\n",
      "A value is trying to be set on a copy of a slice from a DataFrame.\n",
      "Try using .loc[row_indexer,col_indexer] = value instead\n",
      "\n",
      "See the caveats in the documentation: https://pandas.pydata.org/pandas-docs/stable/user_guide/indexing.html#returning-a-view-versus-a-copy\n",
      "\n"
     ]
    },
    {
     "data": {
      "application/vnd.plotly.v1+json": {
       "config": {
        "plotlyServerURL": "https://plot.ly"
       },
       "data": [
        {
         "hovertemplate": "seniority_level=senior<br>skills=%{x}<br>count=%{y}<extra></extra>",
         "legendgroup": "senior",
         "marker": {
          "color": "#636efa",
          "pattern": {
           "shape": ""
          }
         },
         "name": "senior",
         "orientation": "v",
         "showlegend": true,
         "textposition": "auto",
         "type": "bar",
         "x": [
          "python",
          "machine learning",
          "sql",
          "r",
          "aws",
          "deep learning",
          "azure",
          "tensorflow",
          "pytorch",
          "spark",
          "tableau",
          "gcp",
          "scikit-learn",
          "pandas",
          "java",
          "scala",
          "git",
          "database",
          "hadoop",
          "docker",
          "numpy",
          "amazon",
          "kubernetes",
          "matplotlib",
          "keras",
          "powerbi",
          "airflow",
          "linux"
         ],
         "xaxis": "x",
         "y": {
          "bdata": "wwGLATsB9ACeAH4AfAB7AHMAbgBaAFYAQQA9AD0APQA0ADMAMAAvAC4ALQAnACAAHAAWABMADgA=",
          "dtype": "i2"
         },
         "yaxis": "y"
        },
        {
         "hovertemplate": "seniority_level=midlevel<br>skills=%{x}<br>count=%{y}<extra></extra>",
         "legendgroup": "midlevel",
         "marker": {
          "color": "#EF553B",
          "pattern": {
           "shape": ""
          }
         },
         "name": "midlevel",
         "orientation": "v",
         "showlegend": true,
         "textposition": "auto",
         "type": "bar",
         "x": [
          "python",
          "machine learning",
          "sql",
          "r",
          "aws",
          "spark",
          "database",
          "deep learning"
         ],
         "xaxis": "x",
         "y": {
          "bdata": "YlVBLhkXEw8=",
          "dtype": "i1"
         },
         "yaxis": "y"
        },
        {
         "hovertemplate": "seniority_level=lead<br>skills=%{x}<br>count=%{y}<extra></extra>",
         "legendgroup": "lead",
         "marker": {
          "color": "#00cc96",
          "pattern": {
           "shape": ""
          }
         },
         "name": "lead",
         "orientation": "v",
         "showlegend": true,
         "textposition": "auto",
         "type": "bar",
         "x": [
          "machine learning",
          "python",
          "sql",
          "r",
          "aws",
          "deep learning",
          "spark",
          "tensorflow",
          "azure",
          "pytorch",
          "scikit-learn",
          "scala",
          "tableau",
          "gcp",
          "database"
         ],
         "xaxis": "x",
         "y": {
          "bdata": "T0o2Lh8cGRkSEhAODgsL",
          "dtype": "i1"
         },
         "yaxis": "y"
        },
        {
         "hovertemplate": "seniority_level=junior<br>skills=%{x}<br>count=%{y}<extra></extra>",
         "legendgroup": "junior",
         "marker": {
          "color": "#ab63fa",
          "pattern": {
           "shape": ""
          }
         },
         "name": "junior",
         "orientation": "v",
         "showlegend": true,
         "textposition": "auto",
         "type": "bar",
         "x": [
          "machine learning",
          "python"
         ],
         "xaxis": "x",
         "y": {
          "bdata": "FRE=",
          "dtype": "i1"
         },
         "yaxis": "y"
        }
       ],
       "layout": {
        "barmode": "stack",
        "legend": {
         "title": {
          "text": "seniority_level"
         },
         "tracegroupgap": 0
        },
        "margin": {
         "t": 60
        },
        "template": {
         "data": {
          "bar": [
           {
            "error_x": {
             "color": "#2a3f5f"
            },
            "error_y": {
             "color": "#2a3f5f"
            },
            "marker": {
             "line": {
              "color": "#E5ECF6",
              "width": 0.5
             },
             "pattern": {
              "fillmode": "overlay",
              "size": 10,
              "solidity": 0.2
             }
            },
            "type": "bar"
           }
          ],
          "barpolar": [
           {
            "marker": {
             "line": {
              "color": "#E5ECF6",
              "width": 0.5
             },
             "pattern": {
              "fillmode": "overlay",
              "size": 10,
              "solidity": 0.2
             }
            },
            "type": "barpolar"
           }
          ],
          "carpet": [
           {
            "aaxis": {
             "endlinecolor": "#2a3f5f",
             "gridcolor": "white",
             "linecolor": "white",
             "minorgridcolor": "white",
             "startlinecolor": "#2a3f5f"
            },
            "baxis": {
             "endlinecolor": "#2a3f5f",
             "gridcolor": "white",
             "linecolor": "white",
             "minorgridcolor": "white",
             "startlinecolor": "#2a3f5f"
            },
            "type": "carpet"
           }
          ],
          "choropleth": [
           {
            "colorbar": {
             "outlinewidth": 0,
             "ticks": ""
            },
            "type": "choropleth"
           }
          ],
          "contour": [
           {
            "colorbar": {
             "outlinewidth": 0,
             "ticks": ""
            },
            "colorscale": [
             [
              0,
              "#0d0887"
             ],
             [
              0.1111111111111111,
              "#46039f"
             ],
             [
              0.2222222222222222,
              "#7201a8"
             ],
             [
              0.3333333333333333,
              "#9c179e"
             ],
             [
              0.4444444444444444,
              "#bd3786"
             ],
             [
              0.5555555555555556,
              "#d8576b"
             ],
             [
              0.6666666666666666,
              "#ed7953"
             ],
             [
              0.7777777777777778,
              "#fb9f3a"
             ],
             [
              0.8888888888888888,
              "#fdca26"
             ],
             [
              1,
              "#f0f921"
             ]
            ],
            "type": "contour"
           }
          ],
          "contourcarpet": [
           {
            "colorbar": {
             "outlinewidth": 0,
             "ticks": ""
            },
            "type": "contourcarpet"
           }
          ],
          "heatmap": [
           {
            "colorbar": {
             "outlinewidth": 0,
             "ticks": ""
            },
            "colorscale": [
             [
              0,
              "#0d0887"
             ],
             [
              0.1111111111111111,
              "#46039f"
             ],
             [
              0.2222222222222222,
              "#7201a8"
             ],
             [
              0.3333333333333333,
              "#9c179e"
             ],
             [
              0.4444444444444444,
              "#bd3786"
             ],
             [
              0.5555555555555556,
              "#d8576b"
             ],
             [
              0.6666666666666666,
              "#ed7953"
             ],
             [
              0.7777777777777778,
              "#fb9f3a"
             ],
             [
              0.8888888888888888,
              "#fdca26"
             ],
             [
              1,
              "#f0f921"
             ]
            ],
            "type": "heatmap"
           }
          ],
          "histogram": [
           {
            "marker": {
             "pattern": {
              "fillmode": "overlay",
              "size": 10,
              "solidity": 0.2
             }
            },
            "type": "histogram"
           }
          ],
          "histogram2d": [
           {
            "colorbar": {
             "outlinewidth": 0,
             "ticks": ""
            },
            "colorscale": [
             [
              0,
              "#0d0887"
             ],
             [
              0.1111111111111111,
              "#46039f"
             ],
             [
              0.2222222222222222,
              "#7201a8"
             ],
             [
              0.3333333333333333,
              "#9c179e"
             ],
             [
              0.4444444444444444,
              "#bd3786"
             ],
             [
              0.5555555555555556,
              "#d8576b"
             ],
             [
              0.6666666666666666,
              "#ed7953"
             ],
             [
              0.7777777777777778,
              "#fb9f3a"
             ],
             [
              0.8888888888888888,
              "#fdca26"
             ],
             [
              1,
              "#f0f921"
             ]
            ],
            "type": "histogram2d"
           }
          ],
          "histogram2dcontour": [
           {
            "colorbar": {
             "outlinewidth": 0,
             "ticks": ""
            },
            "colorscale": [
             [
              0,
              "#0d0887"
             ],
             [
              0.1111111111111111,
              "#46039f"
             ],
             [
              0.2222222222222222,
              "#7201a8"
             ],
             [
              0.3333333333333333,
              "#9c179e"
             ],
             [
              0.4444444444444444,
              "#bd3786"
             ],
             [
              0.5555555555555556,
              "#d8576b"
             ],
             [
              0.6666666666666666,
              "#ed7953"
             ],
             [
              0.7777777777777778,
              "#fb9f3a"
             ],
             [
              0.8888888888888888,
              "#fdca26"
             ],
             [
              1,
              "#f0f921"
             ]
            ],
            "type": "histogram2dcontour"
           }
          ],
          "mesh3d": [
           {
            "colorbar": {
             "outlinewidth": 0,
             "ticks": ""
            },
            "type": "mesh3d"
           }
          ],
          "parcoords": [
           {
            "line": {
             "colorbar": {
              "outlinewidth": 0,
              "ticks": ""
             }
            },
            "type": "parcoords"
           }
          ],
          "pie": [
           {
            "automargin": true,
            "type": "pie"
           }
          ],
          "scatter": [
           {
            "fillpattern": {
             "fillmode": "overlay",
             "size": 10,
             "solidity": 0.2
            },
            "type": "scatter"
           }
          ],
          "scatter3d": [
           {
            "line": {
             "colorbar": {
              "outlinewidth": 0,
              "ticks": ""
             }
            },
            "marker": {
             "colorbar": {
              "outlinewidth": 0,
              "ticks": ""
             }
            },
            "type": "scatter3d"
           }
          ],
          "scattercarpet": [
           {
            "marker": {
             "colorbar": {
              "outlinewidth": 0,
              "ticks": ""
             }
            },
            "type": "scattercarpet"
           }
          ],
          "scattergeo": [
           {
            "marker": {
             "colorbar": {
              "outlinewidth": 0,
              "ticks": ""
             }
            },
            "type": "scattergeo"
           }
          ],
          "scattergl": [
           {
            "marker": {
             "colorbar": {
              "outlinewidth": 0,
              "ticks": ""
             }
            },
            "type": "scattergl"
           }
          ],
          "scattermap": [
           {
            "marker": {
             "colorbar": {
              "outlinewidth": 0,
              "ticks": ""
             }
            },
            "type": "scattermap"
           }
          ],
          "scattermapbox": [
           {
            "marker": {
             "colorbar": {
              "outlinewidth": 0,
              "ticks": ""
             }
            },
            "type": "scattermapbox"
           }
          ],
          "scatterpolar": [
           {
            "marker": {
             "colorbar": {
              "outlinewidth": 0,
              "ticks": ""
             }
            },
            "type": "scatterpolar"
           }
          ],
          "scatterpolargl": [
           {
            "marker": {
             "colorbar": {
              "outlinewidth": 0,
              "ticks": ""
             }
            },
            "type": "scatterpolargl"
           }
          ],
          "scatterternary": [
           {
            "marker": {
             "colorbar": {
              "outlinewidth": 0,
              "ticks": ""
             }
            },
            "type": "scatterternary"
           }
          ],
          "surface": [
           {
            "colorbar": {
             "outlinewidth": 0,
             "ticks": ""
            },
            "colorscale": [
             [
              0,
              "#0d0887"
             ],
             [
              0.1111111111111111,
              "#46039f"
             ],
             [
              0.2222222222222222,
              "#7201a8"
             ],
             [
              0.3333333333333333,
              "#9c179e"
             ],
             [
              0.4444444444444444,
              "#bd3786"
             ],
             [
              0.5555555555555556,
              "#d8576b"
             ],
             [
              0.6666666666666666,
              "#ed7953"
             ],
             [
              0.7777777777777778,
              "#fb9f3a"
             ],
             [
              0.8888888888888888,
              "#fdca26"
             ],
             [
              1,
              "#f0f921"
             ]
            ],
            "type": "surface"
           }
          ],
          "table": [
           {
            "cells": {
             "fill": {
              "color": "#EBF0F8"
             },
             "line": {
              "color": "white"
             }
            },
            "header": {
             "fill": {
              "color": "#C8D4E3"
             },
             "line": {
              "color": "white"
             }
            },
            "type": "table"
           }
          ]
         },
         "layout": {
          "annotationdefaults": {
           "arrowcolor": "#2a3f5f",
           "arrowhead": 0,
           "arrowwidth": 1
          },
          "autotypenumbers": "strict",
          "coloraxis": {
           "colorbar": {
            "outlinewidth": 0,
            "ticks": ""
           }
          },
          "colorscale": {
           "diverging": [
            [
             0,
             "#8e0152"
            ],
            [
             0.1,
             "#c51b7d"
            ],
            [
             0.2,
             "#de77ae"
            ],
            [
             0.3,
             "#f1b6da"
            ],
            [
             0.4,
             "#fde0ef"
            ],
            [
             0.5,
             "#f7f7f7"
            ],
            [
             0.6,
             "#e6f5d0"
            ],
            [
             0.7,
             "#b8e186"
            ],
            [
             0.8,
             "#7fbc41"
            ],
            [
             0.9,
             "#4d9221"
            ],
            [
             1,
             "#276419"
            ]
           ],
           "sequential": [
            [
             0,
             "#0d0887"
            ],
            [
             0.1111111111111111,
             "#46039f"
            ],
            [
             0.2222222222222222,
             "#7201a8"
            ],
            [
             0.3333333333333333,
             "#9c179e"
            ],
            [
             0.4444444444444444,
             "#bd3786"
            ],
            [
             0.5555555555555556,
             "#d8576b"
            ],
            [
             0.6666666666666666,
             "#ed7953"
            ],
            [
             0.7777777777777778,
             "#fb9f3a"
            ],
            [
             0.8888888888888888,
             "#fdca26"
            ],
            [
             1,
             "#f0f921"
            ]
           ],
           "sequentialminus": [
            [
             0,
             "#0d0887"
            ],
            [
             0.1111111111111111,
             "#46039f"
            ],
            [
             0.2222222222222222,
             "#7201a8"
            ],
            [
             0.3333333333333333,
             "#9c179e"
            ],
            [
             0.4444444444444444,
             "#bd3786"
            ],
            [
             0.5555555555555556,
             "#d8576b"
            ],
            [
             0.6666666666666666,
             "#ed7953"
            ],
            [
             0.7777777777777778,
             "#fb9f3a"
            ],
            [
             0.8888888888888888,
             "#fdca26"
            ],
            [
             1,
             "#f0f921"
            ]
           ]
          },
          "colorway": [
           "#636efa",
           "#EF553B",
           "#00cc96",
           "#ab63fa",
           "#FFA15A",
           "#19d3f3",
           "#FF6692",
           "#B6E880",
           "#FF97FF",
           "#FECB52"
          ],
          "font": {
           "color": "#2a3f5f"
          },
          "geo": {
           "bgcolor": "white",
           "lakecolor": "white",
           "landcolor": "#E5ECF6",
           "showlakes": true,
           "showland": true,
           "subunitcolor": "white"
          },
          "hoverlabel": {
           "align": "left"
          },
          "hovermode": "closest",
          "mapbox": {
           "style": "light"
          },
          "paper_bgcolor": "white",
          "plot_bgcolor": "#E5ECF6",
          "polar": {
           "angularaxis": {
            "gridcolor": "white",
            "linecolor": "white",
            "ticks": ""
           },
           "bgcolor": "#E5ECF6",
           "radialaxis": {
            "gridcolor": "white",
            "linecolor": "white",
            "ticks": ""
           }
          },
          "scene": {
           "xaxis": {
            "backgroundcolor": "#E5ECF6",
            "gridcolor": "white",
            "gridwidth": 2,
            "linecolor": "white",
            "showbackground": true,
            "ticks": "",
            "zerolinecolor": "white"
           },
           "yaxis": {
            "backgroundcolor": "#E5ECF6",
            "gridcolor": "white",
            "gridwidth": 2,
            "linecolor": "white",
            "showbackground": true,
            "ticks": "",
            "zerolinecolor": "white"
           },
           "zaxis": {
            "backgroundcolor": "#E5ECF6",
            "gridcolor": "white",
            "gridwidth": 2,
            "linecolor": "white",
            "showbackground": true,
            "ticks": "",
            "zerolinecolor": "white"
           }
          },
          "shapedefaults": {
           "line": {
            "color": "#2a3f5f"
           }
          },
          "ternary": {
           "aaxis": {
            "gridcolor": "white",
            "linecolor": "white",
            "ticks": ""
           },
           "baxis": {
            "gridcolor": "white",
            "linecolor": "white",
            "ticks": ""
           },
           "bgcolor": "#E5ECF6",
           "caxis": {
            "gridcolor": "white",
            "linecolor": "white",
            "ticks": ""
           }
          },
          "title": {
           "x": 0.05
          },
          "xaxis": {
           "automargin": true,
           "gridcolor": "white",
           "linecolor": "white",
           "ticks": "",
           "title": {
            "standoff": 15
           },
           "zerolinecolor": "white",
           "zerolinewidth": 2
          },
          "yaxis": {
           "automargin": true,
           "gridcolor": "white",
           "linecolor": "white",
           "ticks": "",
           "title": {
            "standoff": 15
           },
           "zerolinecolor": "white",
           "zerolinewidth": 2
          }
         }
        },
        "xaxis": {
         "anchor": "y",
         "domain": [
          0,
          1
         ],
         "title": {
          "text": "skills"
         }
        },
        "yaxis": {
         "anchor": "x",
         "domain": [
          0,
          1
         ],
         "title": {
          "text": "count"
         }
        }
       }
      }
     },
     "metadata": {},
     "output_type": "display_data"
    },
    {
     "data": {
      "application/vnd.plotly.v1+json": {
       "config": {
        "plotlyServerURL": "https://plot.ly"
       },
       "data": [
        {
         "hovertemplate": "seniority_level=%{x}<br>count=%{y}<extra></extra>",
         "legendgroup": "",
         "marker": {
          "color": "#636efa",
          "pattern": {
           "shape": ""
          }
         },
         "name": "",
         "orientation": "v",
         "showlegend": false,
         "textposition": "auto",
         "type": "bar",
         "x": [
          "senior",
          "senior",
          "senior",
          "senior",
          "senior",
          "senior",
          "senior",
          "senior",
          "senior",
          "senior",
          "midlevel",
          "senior",
          "senior",
          "midlevel",
          "lead",
          "lead",
          "midlevel",
          "senior",
          "senior",
          "senior",
          "senior",
          "lead",
          "senior",
          "senior",
          "senior",
          "senior",
          "senior",
          "midlevel",
          "lead",
          "senior",
          "senior",
          "senior",
          "lead",
          "lead",
          "senior",
          "midlevel",
          "lead",
          "lead",
          "midlevel",
          "senior",
          "junior",
          "midlevel",
          "senior",
          "lead",
          "lead",
          "junior",
          "lead",
          "midlevel",
          "lead",
          "lead",
          "senior",
          "lead",
          "lead"
         ],
         "xaxis": "x",
         "y": {
          "bdata": "wwGLATsB9ACeAH4AfAB7AHMAbgBiAFoAVgBVAE8ASgBBAEEAPQA9AD0ANgA0ADMAMAAvAC4ALgAuAC0AJwAgAB8AHAAcABkAGQAZABcAFgAVABMAEwASABIAEQAQAA8ADgAOAA4ACwALAA==",
          "dtype": "i2"
         },
         "yaxis": "y"
        }
       ],
       "layout": {
        "barmode": "relative",
        "legend": {
         "tracegroupgap": 0
        },
        "margin": {
         "t": 60
        },
        "template": {
         "data": {
          "bar": [
           {
            "error_x": {
             "color": "#2a3f5f"
            },
            "error_y": {
             "color": "#2a3f5f"
            },
            "marker": {
             "line": {
              "color": "#E5ECF6",
              "width": 0.5
             },
             "pattern": {
              "fillmode": "overlay",
              "size": 10,
              "solidity": 0.2
             }
            },
            "type": "bar"
           }
          ],
          "barpolar": [
           {
            "marker": {
             "line": {
              "color": "#E5ECF6",
              "width": 0.5
             },
             "pattern": {
              "fillmode": "overlay",
              "size": 10,
              "solidity": 0.2
             }
            },
            "type": "barpolar"
           }
          ],
          "carpet": [
           {
            "aaxis": {
             "endlinecolor": "#2a3f5f",
             "gridcolor": "white",
             "linecolor": "white",
             "minorgridcolor": "white",
             "startlinecolor": "#2a3f5f"
            },
            "baxis": {
             "endlinecolor": "#2a3f5f",
             "gridcolor": "white",
             "linecolor": "white",
             "minorgridcolor": "white",
             "startlinecolor": "#2a3f5f"
            },
            "type": "carpet"
           }
          ],
          "choropleth": [
           {
            "colorbar": {
             "outlinewidth": 0,
             "ticks": ""
            },
            "type": "choropleth"
           }
          ],
          "contour": [
           {
            "colorbar": {
             "outlinewidth": 0,
             "ticks": ""
            },
            "colorscale": [
             [
              0,
              "#0d0887"
             ],
             [
              0.1111111111111111,
              "#46039f"
             ],
             [
              0.2222222222222222,
              "#7201a8"
             ],
             [
              0.3333333333333333,
              "#9c179e"
             ],
             [
              0.4444444444444444,
              "#bd3786"
             ],
             [
              0.5555555555555556,
              "#d8576b"
             ],
             [
              0.6666666666666666,
              "#ed7953"
             ],
             [
              0.7777777777777778,
              "#fb9f3a"
             ],
             [
              0.8888888888888888,
              "#fdca26"
             ],
             [
              1,
              "#f0f921"
             ]
            ],
            "type": "contour"
           }
          ],
          "contourcarpet": [
           {
            "colorbar": {
             "outlinewidth": 0,
             "ticks": ""
            },
            "type": "contourcarpet"
           }
          ],
          "heatmap": [
           {
            "colorbar": {
             "outlinewidth": 0,
             "ticks": ""
            },
            "colorscale": [
             [
              0,
              "#0d0887"
             ],
             [
              0.1111111111111111,
              "#46039f"
             ],
             [
              0.2222222222222222,
              "#7201a8"
             ],
             [
              0.3333333333333333,
              "#9c179e"
             ],
             [
              0.4444444444444444,
              "#bd3786"
             ],
             [
              0.5555555555555556,
              "#d8576b"
             ],
             [
              0.6666666666666666,
              "#ed7953"
             ],
             [
              0.7777777777777778,
              "#fb9f3a"
             ],
             [
              0.8888888888888888,
              "#fdca26"
             ],
             [
              1,
              "#f0f921"
             ]
            ],
            "type": "heatmap"
           }
          ],
          "histogram": [
           {
            "marker": {
             "pattern": {
              "fillmode": "overlay",
              "size": 10,
              "solidity": 0.2
             }
            },
            "type": "histogram"
           }
          ],
          "histogram2d": [
           {
            "colorbar": {
             "outlinewidth": 0,
             "ticks": ""
            },
            "colorscale": [
             [
              0,
              "#0d0887"
             ],
             [
              0.1111111111111111,
              "#46039f"
             ],
             [
              0.2222222222222222,
              "#7201a8"
             ],
             [
              0.3333333333333333,
              "#9c179e"
             ],
             [
              0.4444444444444444,
              "#bd3786"
             ],
             [
              0.5555555555555556,
              "#d8576b"
             ],
             [
              0.6666666666666666,
              "#ed7953"
             ],
             [
              0.7777777777777778,
              "#fb9f3a"
             ],
             [
              0.8888888888888888,
              "#fdca26"
             ],
             [
              1,
              "#f0f921"
             ]
            ],
            "type": "histogram2d"
           }
          ],
          "histogram2dcontour": [
           {
            "colorbar": {
             "outlinewidth": 0,
             "ticks": ""
            },
            "colorscale": [
             [
              0,
              "#0d0887"
             ],
             [
              0.1111111111111111,
              "#46039f"
             ],
             [
              0.2222222222222222,
              "#7201a8"
             ],
             [
              0.3333333333333333,
              "#9c179e"
             ],
             [
              0.4444444444444444,
              "#bd3786"
             ],
             [
              0.5555555555555556,
              "#d8576b"
             ],
             [
              0.6666666666666666,
              "#ed7953"
             ],
             [
              0.7777777777777778,
              "#fb9f3a"
             ],
             [
              0.8888888888888888,
              "#fdca26"
             ],
             [
              1,
              "#f0f921"
             ]
            ],
            "type": "histogram2dcontour"
           }
          ],
          "mesh3d": [
           {
            "colorbar": {
             "outlinewidth": 0,
             "ticks": ""
            },
            "type": "mesh3d"
           }
          ],
          "parcoords": [
           {
            "line": {
             "colorbar": {
              "outlinewidth": 0,
              "ticks": ""
             }
            },
            "type": "parcoords"
           }
          ],
          "pie": [
           {
            "automargin": true,
            "type": "pie"
           }
          ],
          "scatter": [
           {
            "fillpattern": {
             "fillmode": "overlay",
             "size": 10,
             "solidity": 0.2
            },
            "type": "scatter"
           }
          ],
          "scatter3d": [
           {
            "line": {
             "colorbar": {
              "outlinewidth": 0,
              "ticks": ""
             }
            },
            "marker": {
             "colorbar": {
              "outlinewidth": 0,
              "ticks": ""
             }
            },
            "type": "scatter3d"
           }
          ],
          "scattercarpet": [
           {
            "marker": {
             "colorbar": {
              "outlinewidth": 0,
              "ticks": ""
             }
            },
            "type": "scattercarpet"
           }
          ],
          "scattergeo": [
           {
            "marker": {
             "colorbar": {
              "outlinewidth": 0,
              "ticks": ""
             }
            },
            "type": "scattergeo"
           }
          ],
          "scattergl": [
           {
            "marker": {
             "colorbar": {
              "outlinewidth": 0,
              "ticks": ""
             }
            },
            "type": "scattergl"
           }
          ],
          "scattermap": [
           {
            "marker": {
             "colorbar": {
              "outlinewidth": 0,
              "ticks": ""
             }
            },
            "type": "scattermap"
           }
          ],
          "scattermapbox": [
           {
            "marker": {
             "colorbar": {
              "outlinewidth": 0,
              "ticks": ""
             }
            },
            "type": "scattermapbox"
           }
          ],
          "scatterpolar": [
           {
            "marker": {
             "colorbar": {
              "outlinewidth": 0,
              "ticks": ""
             }
            },
            "type": "scatterpolar"
           }
          ],
          "scatterpolargl": [
           {
            "marker": {
             "colorbar": {
              "outlinewidth": 0,
              "ticks": ""
             }
            },
            "type": "scatterpolargl"
           }
          ],
          "scatterternary": [
           {
            "marker": {
             "colorbar": {
              "outlinewidth": 0,
              "ticks": ""
             }
            },
            "type": "scatterternary"
           }
          ],
          "surface": [
           {
            "colorbar": {
             "outlinewidth": 0,
             "ticks": ""
            },
            "colorscale": [
             [
              0,
              "#0d0887"
             ],
             [
              0.1111111111111111,
              "#46039f"
             ],
             [
              0.2222222222222222,
              "#7201a8"
             ],
             [
              0.3333333333333333,
              "#9c179e"
             ],
             [
              0.4444444444444444,
              "#bd3786"
             ],
             [
              0.5555555555555556,
              "#d8576b"
             ],
             [
              0.6666666666666666,
              "#ed7953"
             ],
             [
              0.7777777777777778,
              "#fb9f3a"
             ],
             [
              0.8888888888888888,
              "#fdca26"
             ],
             [
              1,
              "#f0f921"
             ]
            ],
            "type": "surface"
           }
          ],
          "table": [
           {
            "cells": {
             "fill": {
              "color": "#EBF0F8"
             },
             "line": {
              "color": "white"
             }
            },
            "header": {
             "fill": {
              "color": "#C8D4E3"
             },
             "line": {
              "color": "white"
             }
            },
            "type": "table"
           }
          ]
         },
         "layout": {
          "annotationdefaults": {
           "arrowcolor": "#2a3f5f",
           "arrowhead": 0,
           "arrowwidth": 1
          },
          "autotypenumbers": "strict",
          "coloraxis": {
           "colorbar": {
            "outlinewidth": 0,
            "ticks": ""
           }
          },
          "colorscale": {
           "diverging": [
            [
             0,
             "#8e0152"
            ],
            [
             0.1,
             "#c51b7d"
            ],
            [
             0.2,
             "#de77ae"
            ],
            [
             0.3,
             "#f1b6da"
            ],
            [
             0.4,
             "#fde0ef"
            ],
            [
             0.5,
             "#f7f7f7"
            ],
            [
             0.6,
             "#e6f5d0"
            ],
            [
             0.7,
             "#b8e186"
            ],
            [
             0.8,
             "#7fbc41"
            ],
            [
             0.9,
             "#4d9221"
            ],
            [
             1,
             "#276419"
            ]
           ],
           "sequential": [
            [
             0,
             "#0d0887"
            ],
            [
             0.1111111111111111,
             "#46039f"
            ],
            [
             0.2222222222222222,
             "#7201a8"
            ],
            [
             0.3333333333333333,
             "#9c179e"
            ],
            [
             0.4444444444444444,
             "#bd3786"
            ],
            [
             0.5555555555555556,
             "#d8576b"
            ],
            [
             0.6666666666666666,
             "#ed7953"
            ],
            [
             0.7777777777777778,
             "#fb9f3a"
            ],
            [
             0.8888888888888888,
             "#fdca26"
            ],
            [
             1,
             "#f0f921"
            ]
           ],
           "sequentialminus": [
            [
             0,
             "#0d0887"
            ],
            [
             0.1111111111111111,
             "#46039f"
            ],
            [
             0.2222222222222222,
             "#7201a8"
            ],
            [
             0.3333333333333333,
             "#9c179e"
            ],
            [
             0.4444444444444444,
             "#bd3786"
            ],
            [
             0.5555555555555556,
             "#d8576b"
            ],
            [
             0.6666666666666666,
             "#ed7953"
            ],
            [
             0.7777777777777778,
             "#fb9f3a"
            ],
            [
             0.8888888888888888,
             "#fdca26"
            ],
            [
             1,
             "#f0f921"
            ]
           ]
          },
          "colorway": [
           "#636efa",
           "#EF553B",
           "#00cc96",
           "#ab63fa",
           "#FFA15A",
           "#19d3f3",
           "#FF6692",
           "#B6E880",
           "#FF97FF",
           "#FECB52"
          ],
          "font": {
           "color": "#2a3f5f"
          },
          "geo": {
           "bgcolor": "white",
           "lakecolor": "white",
           "landcolor": "#E5ECF6",
           "showlakes": true,
           "showland": true,
           "subunitcolor": "white"
          },
          "hoverlabel": {
           "align": "left"
          },
          "hovermode": "closest",
          "mapbox": {
           "style": "light"
          },
          "paper_bgcolor": "white",
          "plot_bgcolor": "#E5ECF6",
          "polar": {
           "angularaxis": {
            "gridcolor": "white",
            "linecolor": "white",
            "ticks": ""
           },
           "bgcolor": "#E5ECF6",
           "radialaxis": {
            "gridcolor": "white",
            "linecolor": "white",
            "ticks": ""
           }
          },
          "scene": {
           "xaxis": {
            "backgroundcolor": "#E5ECF6",
            "gridcolor": "white",
            "gridwidth": 2,
            "linecolor": "white",
            "showbackground": true,
            "ticks": "",
            "zerolinecolor": "white"
           },
           "yaxis": {
            "backgroundcolor": "#E5ECF6",
            "gridcolor": "white",
            "gridwidth": 2,
            "linecolor": "white",
            "showbackground": true,
            "ticks": "",
            "zerolinecolor": "white"
           },
           "zaxis": {
            "backgroundcolor": "#E5ECF6",
            "gridcolor": "white",
            "gridwidth": 2,
            "linecolor": "white",
            "showbackground": true,
            "ticks": "",
            "zerolinecolor": "white"
           }
          },
          "shapedefaults": {
           "line": {
            "color": "#2a3f5f"
           }
          },
          "ternary": {
           "aaxis": {
            "gridcolor": "white",
            "linecolor": "white",
            "ticks": ""
           },
           "baxis": {
            "gridcolor": "white",
            "linecolor": "white",
            "ticks": ""
           },
           "bgcolor": "#E5ECF6",
           "caxis": {
            "gridcolor": "white",
            "linecolor": "white",
            "ticks": ""
           }
          },
          "title": {
           "x": 0.05
          },
          "xaxis": {
           "automargin": true,
           "gridcolor": "white",
           "linecolor": "white",
           "ticks": "",
           "title": {
            "standoff": 15
           },
           "zerolinecolor": "white",
           "zerolinewidth": 2
          },
          "yaxis": {
           "automargin": true,
           "gridcolor": "white",
           "linecolor": "white",
           "ticks": "",
           "title": {
            "standoff": 15
           },
           "zerolinecolor": "white",
           "zerolinewidth": 2
          }
         }
        },
        "xaxis": {
         "anchor": "y",
         "domain": [
          0,
          1
         ],
         "title": {
          "text": "seniority_level"
         }
        },
        "yaxis": {
         "anchor": "x",
         "domain": [
          0,
          1
         ],
         "title": {
          "text": "count"
         }
        }
       }
      }
     },
     "metadata": {},
     "output_type": "display_data"
    }
   ],
   "source": [
    "skillCount = copydf[[\"seniority_level\",\"skills\"]]\n",
    "skillCount[\"skills\"] = skillCount[\"skills\"].apply(str_to_list)\n",
    "skillCount = skillCount.explode(\"skills\").value_counts().reset_index()\n",
    "skillCount = skillCount[skillCount[\"count\"] > 10]\n",
    "skillCount = skillCount[skillCount[\"skills\"] != \"\"]\n",
    "\n",
    "fig1 = px.bar(skillCount, x=\"skills\", y=\"count\", color=\"seniority_level\",\n",
    "            hover_data=['count'], barmode = 'stack')\n",
    "\n",
    "fig1.show()\n"
   ]
  },
  {
   "cell_type": "code",
   "execution_count": 242,
   "id": "270854b6",
   "metadata": {},
   "outputs": [
    {
     "data": {
      "application/vnd.plotly.v1+json": {
       "config": {
        "plotlyServerURL": "https://plot.ly"
       },
       "data": [
        {
         "hovertemplate": "seniority_level=%{x}<br>salary=%{y}<extra></extra>",
         "legendgroup": "",
         "marker": {
          "color": "#636efa",
          "symbol": "circle"
         },
         "mode": "markers",
         "name": "",
         "orientation": "v",
         "showlegend": false,
         "type": "scatter",
         "x": [
          "senior",
          "lead",
          "senior",
          "senior",
          null,
          "lead",
          "junior",
          "senior",
          "senior",
          "senior",
          "senior",
          "midlevel",
          "senior",
          "senior",
          "senior",
          "senior",
          "lead",
          "lead",
          "senior",
          "junior",
          "senior",
          "senior",
          "senior",
          "senior",
          "lead",
          null,
          "senior",
          "senior",
          "senior",
          "senior",
          "lead",
          "lead",
          "senior",
          "senior",
          "midlevel",
          "senior",
          "senior",
          "senior",
          "lead",
          "midlevel",
          "senior",
          "senior",
          "senior",
          "senior",
          "senior",
          "senior",
          "senior",
          "senior",
          "senior",
          "lead",
          "senior",
          "senior",
          "senior",
          null,
          "senior",
          "senior",
          "midlevel",
          "midlevel",
          "senior",
          "senior",
          "senior",
          "lead",
          "senior",
          "senior",
          "senior",
          "midlevel",
          "senior",
          "senior",
          "senior",
          "senior",
          "senior",
          null,
          "senior",
          "senior",
          null,
          "senior",
          "senior",
          "senior",
          "senior",
          "senior",
          "senior",
          "lead",
          null,
          "senior",
          "senior",
          "senior",
          "senior",
          "senior",
          "senior",
          "senior",
          null,
          "senior",
          "senior",
          "senior",
          "senior",
          "midlevel",
          "senior",
          "senior",
          "senior",
          "senior",
          "senior",
          "midlevel",
          "senior",
          null,
          null,
          "lead",
          "lead",
          "senior",
          "midlevel",
          "senior",
          null,
          "lead",
          "senior",
          "senior",
          null,
          "senior",
          "senior",
          "senior",
          "midlevel",
          "senior",
          "senior",
          "lead",
          "senior",
          "senior",
          "senior",
          null,
          "senior",
          "midlevel",
          "lead",
          "lead",
          "senior",
          null,
          "senior",
          "senior",
          "senior",
          "senior",
          "senior",
          "senior",
          "senior",
          "lead",
          "midlevel",
          "senior",
          "lead",
          null,
          "senior",
          "midlevel",
          "senior",
          "lead",
          "senior",
          "junior",
          "senior",
          "senior",
          "senior",
          "senior",
          "senior",
          "senior",
          "midlevel",
          "midlevel",
          "senior",
          "senior",
          "senior",
          "senior",
          "midlevel",
          "senior",
          "senior",
          "lead",
          null,
          "senior",
          "senior",
          "lead",
          "senior",
          "senior",
          "senior",
          "senior",
          "senior",
          "lead",
          "midlevel",
          "senior",
          "senior",
          null,
          "senior",
          "senior",
          "midlevel",
          "senior",
          "senior",
          "senior",
          "senior",
          "senior",
          "senior",
          "senior",
          "senior",
          "lead",
          "senior",
          "lead",
          "senior",
          "senior",
          "senior",
          "senior",
          "senior",
          null,
          "lead",
          "senior",
          null,
          "senior",
          "senior",
          null,
          "senior",
          "senior",
          "senior",
          "senior",
          "midlevel",
          "senior",
          "senior",
          null,
          "senior",
          "senior",
          "midlevel",
          "senior",
          "midlevel",
          "senior",
          "senior",
          "senior",
          "senior",
          "midlevel",
          "senior",
          "senior",
          "senior",
          "lead",
          "senior",
          null,
          "senior",
          "senior",
          null,
          "senior",
          "lead",
          "senior",
          "midlevel",
          "midlevel",
          "senior",
          "midlevel",
          "senior",
          "senior",
          "lead",
          "senior",
          "midlevel",
          "senior",
          "midlevel",
          "senior",
          "senior",
          null,
          "senior",
          "midlevel",
          "senior",
          "senior",
          "junior",
          "senior",
          "senior",
          "senior",
          "senior",
          "junior",
          "midlevel",
          "lead",
          "senior",
          "midlevel",
          "senior",
          null,
          "lead",
          "senior",
          "senior",
          "senior",
          "senior",
          null,
          "senior",
          "lead",
          "senior",
          "senior",
          "senior",
          "senior",
          null,
          "lead",
          "senior",
          "lead",
          "senior",
          "senior",
          "senior",
          "midlevel",
          "senior",
          "midlevel",
          "lead",
          "senior",
          "senior",
          "senior",
          "senior",
          "senior",
          "senior",
          "senior",
          "lead",
          "midlevel",
          "junior",
          "midlevel",
          "senior",
          "senior",
          "lead",
          "senior",
          "senior",
          "senior",
          "lead",
          null,
          null,
          "senior",
          "midlevel",
          "midlevel",
          "senior",
          "lead",
          "senior",
          "lead",
          "senior",
          "senior",
          null,
          "senior",
          "senior",
          "senior",
          "senior",
          "senior",
          null,
          null,
          "senior",
          "lead",
          null,
          "senior",
          "senior",
          "senior",
          "senior",
          "senior",
          "lead",
          "senior",
          "lead",
          "senior",
          "senior",
          "senior",
          "senior",
          "junior",
          "lead",
          null,
          "lead",
          null,
          "senior",
          "senior",
          "lead",
          "junior",
          "lead",
          "lead",
          "senior",
          "senior",
          "senior",
          "senior",
          "midlevel",
          "senior",
          null,
          "senior",
          "senior",
          "senior",
          "senior",
          "senior",
          null,
          "senior",
          "senior",
          "senior",
          "senior",
          "senior",
          "senior",
          "senior",
          "senior",
          "senior",
          "senior",
          "senior",
          "senior",
          "senior",
          "senior",
          "senior",
          "midlevel",
          "senior",
          null,
          "lead",
          "senior",
          "senior",
          "junior",
          "senior",
          "senior",
          "senior",
          "senior",
          "lead",
          "senior",
          "senior",
          "senior",
          "senior",
          "senior",
          "senior",
          "senior",
          "lead",
          "senior",
          "senior",
          "senior",
          "midlevel",
          "senior",
          "senior",
          "senior",
          "senior",
          "senior",
          null,
          "lead",
          "senior",
          "midlevel",
          "senior",
          "senior",
          "senior",
          "midlevel",
          "senior",
          "midlevel",
          "midlevel",
          "senior",
          null,
          "senior",
          "senior",
          "lead",
          "senior",
          "senior",
          "lead",
          "senior",
          "lead",
          "senior",
          "senior",
          "senior",
          "senior",
          "senior",
          "senior",
          "senior",
          "lead",
          "lead",
          "senior",
          "junior",
          "senior",
          "midlevel",
          "senior",
          "midlevel",
          "midlevel",
          "senior",
          "senior",
          null,
          "senior",
          "senior",
          "lead",
          "senior",
          "midlevel",
          "senior",
          "senior",
          "senior",
          "senior",
          "senior",
          null,
          "senior",
          "senior",
          "senior",
          "senior",
          "senior",
          "senior",
          "senior",
          null,
          "senior",
          null,
          "senior",
          "senior",
          "senior",
          "lead",
          "senior",
          "senior",
          "lead",
          "lead",
          "senior",
          "senior",
          "midlevel",
          "midlevel",
          "senior",
          "lead",
          "senior",
          "senior",
          "senior",
          "midlevel",
          "senior",
          "senior",
          "senior",
          "senior",
          "senior",
          null,
          "midlevel",
          null,
          "senior",
          "senior",
          "senior",
          "senior",
          "senior",
          "senior",
          "senior",
          "senior",
          "senior",
          "junior",
          "senior",
          "senior",
          "lead",
          "lead",
          "senior",
          "lead",
          "senior",
          "senior",
          "senior",
          "senior",
          "lead",
          "senior",
          null,
          "senior",
          "midlevel",
          "senior",
          null,
          "senior",
          "senior",
          "lead",
          "senior",
          "lead",
          "senior",
          "senior",
          "senior",
          "senior",
          null,
          "lead",
          "senior",
          "midlevel",
          "senior",
          "junior",
          "senior",
          "senior",
          "senior",
          "midlevel",
          "midlevel",
          null,
          "senior",
          "senior",
          "senior",
          "senior",
          "senior",
          null,
          "senior",
          "lead",
          "midlevel",
          "senior",
          "junior",
          "midlevel",
          "junior",
          "senior",
          "senior",
          "lead",
          "lead",
          "senior",
          "senior",
          "senior",
          "senior",
          "senior",
          "midlevel",
          null,
          "lead",
          "senior",
          null,
          "senior",
          "senior",
          "lead",
          "senior",
          "senior",
          "senior",
          "lead",
          "senior",
          "senior",
          "lead",
          "senior",
          "senior",
          "senior",
          "senior",
          "senior",
          "senior",
          "senior",
          "senior",
          "senior",
          "senior",
          "senior",
          "senior",
          "senior",
          "senior",
          "senior",
          "senior",
          "senior",
          "senior",
          "senior",
          "lead",
          "senior",
          "senior",
          "senior",
          "senior",
          "senior",
          null,
          "senior",
          "lead",
          "midlevel",
          "senior",
          "senior",
          "senior",
          "senior",
          "senior",
          "senior",
          "senior",
          "midlevel",
          "midlevel",
          "senior",
          "lead",
          "junior",
          "senior",
          "lead",
          "senior",
          "senior",
          "senior",
          "lead",
          "senior",
          "senior",
          "lead",
          "senior",
          "senior",
          "senior",
          "midlevel",
          "midlevel",
          "senior",
          "senior",
          "senior",
          "senior",
          "senior",
          "senior",
          "midlevel",
          "midlevel",
          "senior",
          "senior",
          "midlevel",
          "senior",
          "senior",
          "midlevel",
          "lead",
          "midlevel",
          "senior",
          "senior",
          "lead",
          "midlevel",
          "senior",
          "lead",
          "senior",
          "senior",
          "senior",
          null,
          "senior",
          "senior",
          "midlevel",
          "senior",
          "senior",
          "senior",
          "senior",
          "lead",
          "senior",
          "junior",
          "senior",
          "senior",
          "senior",
          "midlevel",
          "senior",
          "senior",
          "senior",
          "senior",
          "senior",
          "midlevel",
          "senior",
          "senior",
          null,
          "senior",
          "senior",
          "senior",
          "senior",
          "senior",
          "senior",
          "senior",
          "lead",
          "senior",
          "senior",
          "senior",
          "senior",
          "junior",
          "lead",
          "senior",
          "senior",
          "lead",
          "midlevel",
          "senior",
          "senior",
          "junior",
          "lead",
          "senior",
          "senior",
          "senior",
          "senior",
          "senior",
          "midlevel",
          "midlevel",
          "senior",
          "senior",
          "senior",
          "senior",
          "senior",
          "senior",
          "senior",
          "senior",
          "senior",
          "senior",
          "senior",
          "senior",
          "lead",
          "junior",
          "midlevel",
          "senior",
          "lead",
          "senior",
          "lead",
          "midlevel",
          "senior",
          "senior",
          "senior",
          "senior",
          "lead",
          "junior",
          "senior",
          "senior",
          "senior",
          null,
          "senior",
          "lead",
          "senior",
          "senior",
          "senior",
          "senior",
          "senior",
          "senior",
          "lead",
          "senior",
          "senior",
          "midlevel",
          "midlevel",
          null,
          "senior",
          null,
          "senior",
          "senior",
          "lead",
          "senior",
          "lead",
          "midlevel",
          "lead",
          "senior",
          "senior",
          "senior",
          null,
          "senior",
          "senior",
          "senior",
          "lead",
          "junior",
          "senior",
          "senior",
          "senior",
          "midlevel",
          "senior",
          "senior",
          "senior",
          "senior",
          "senior",
          "lead",
          "senior",
          "senior",
          "senior",
          "senior",
          "senior",
          "senior",
          "midlevel",
          "senior",
          "senior",
          "senior",
          "senior",
          "midlevel",
          "midlevel",
          "senior",
          "lead",
          "senior",
          "senior",
          "senior",
          "senior",
          "senior",
          "junior",
          "senior",
          "senior",
          "senior",
          "midlevel",
          "senior",
          "senior",
          "junior",
          "senior",
          "senior",
          "senior",
          "senior",
          "senior",
          "senior",
          "senior",
          "senior",
          null,
          "senior",
          "midlevel",
          "midlevel",
          "senior",
          "senior",
          "senior",
          "midlevel",
          "senior",
          "senior",
          "midlevel",
          "senior",
          "senior",
          "midlevel",
          "senior",
          "senior",
          "midlevel",
          "senior",
          "senior",
          "lead",
          "senior",
          "midlevel",
          "senior",
          "senior",
          "senior",
          "lead",
          "lead",
          "senior",
          "senior",
          "senior",
          "lead",
          "senior",
          "senior",
          "junior",
          "senior",
          "midlevel",
          "midlevel",
          "senior",
          "senior",
          "midlevel",
          "senior",
          "midlevel",
          "midlevel",
          "senior",
          "senior",
          "midlevel",
          "lead",
          "senior",
          "senior",
          "lead",
          "senior",
          "midlevel",
          "midlevel",
          "senior",
          "senior",
          "midlevel",
          "senior",
          "lead",
          "lead",
          "midlevel",
          "lead",
          "senior",
          "senior",
          "senior",
          "lead",
          "senior",
          "senior",
          "senior",
          "senior",
          "lead",
          "midlevel",
          "senior",
          "senior",
          "senior",
          "senior",
          "midlevel",
          "senior",
          "senior",
          "senior",
          "midlevel",
          "senior",
          "senior",
          "senior",
          "junior",
          "lead",
          "senior",
          "senior",
          "lead",
          "senior",
          "midlevel",
          "senior",
          "midlevel",
          "senior",
          "senior",
          "lead",
          "senior",
          "senior",
          "senior",
          "senior",
          "senior",
          "senior",
          "senior",
          "senior",
          "midlevel",
          "senior",
          "midlevel",
          "senior",
          "senior",
          "midlevel",
          "midlevel",
          "senior",
          "senior",
          "senior",
          "senior",
          "senior",
          "senior",
          "midlevel",
          "midlevel",
          "senior"
         ],
         "xaxis": "x",
         "y": {
          "bdata": "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",
          "dtype": "i4"
         },
         "yaxis": "y"
        }
       ],
       "layout": {
        "legend": {
         "tracegroupgap": 0
        },
        "margin": {
         "t": 60
        },
        "template": {
         "data": {
          "bar": [
           {
            "error_x": {
             "color": "#2a3f5f"
            },
            "error_y": {
             "color": "#2a3f5f"
            },
            "marker": {
             "line": {
              "color": "#E5ECF6",
              "width": 0.5
             },
             "pattern": {
              "fillmode": "overlay",
              "size": 10,
              "solidity": 0.2
             }
            },
            "type": "bar"
           }
          ],
          "barpolar": [
           {
            "marker": {
             "line": {
              "color": "#E5ECF6",
              "width": 0.5
             },
             "pattern": {
              "fillmode": "overlay",
              "size": 10,
              "solidity": 0.2
             }
            },
            "type": "barpolar"
           }
          ],
          "carpet": [
           {
            "aaxis": {
             "endlinecolor": "#2a3f5f",
             "gridcolor": "white",
             "linecolor": "white",
             "minorgridcolor": "white",
             "startlinecolor": "#2a3f5f"
            },
            "baxis": {
             "endlinecolor": "#2a3f5f",
             "gridcolor": "white",
             "linecolor": "white",
             "minorgridcolor": "white",
             "startlinecolor": "#2a3f5f"
            },
            "type": "carpet"
           }
          ],
          "choropleth": [
           {
            "colorbar": {
             "outlinewidth": 0,
             "ticks": ""
            },
            "type": "choropleth"
           }
          ],
          "contour": [
           {
            "colorbar": {
             "outlinewidth": 0,
             "ticks": ""
            },
            "colorscale": [
             [
              0,
              "#0d0887"
             ],
             [
              0.1111111111111111,
              "#46039f"
             ],
             [
              0.2222222222222222,
              "#7201a8"
             ],
             [
              0.3333333333333333,
              "#9c179e"
             ],
             [
              0.4444444444444444,
              "#bd3786"
             ],
             [
              0.5555555555555556,
              "#d8576b"
             ],
             [
              0.6666666666666666,
              "#ed7953"
             ],
             [
              0.7777777777777778,
              "#fb9f3a"
             ],
             [
              0.8888888888888888,
              "#fdca26"
             ],
             [
              1,
              "#f0f921"
             ]
            ],
            "type": "contour"
           }
          ],
          "contourcarpet": [
           {
            "colorbar": {
             "outlinewidth": 0,
             "ticks": ""
            },
            "type": "contourcarpet"
           }
          ],
          "heatmap": [
           {
            "colorbar": {
             "outlinewidth": 0,
             "ticks": ""
            },
            "colorscale": [
             [
              0,
              "#0d0887"
             ],
             [
              0.1111111111111111,
              "#46039f"
             ],
             [
              0.2222222222222222,
              "#7201a8"
             ],
             [
              0.3333333333333333,
              "#9c179e"
             ],
             [
              0.4444444444444444,
              "#bd3786"
             ],
             [
              0.5555555555555556,
              "#d8576b"
             ],
             [
              0.6666666666666666,
              "#ed7953"
             ],
             [
              0.7777777777777778,
              "#fb9f3a"
             ],
             [
              0.8888888888888888,
              "#fdca26"
             ],
             [
              1,
              "#f0f921"
             ]
            ],
            "type": "heatmap"
           }
          ],
          "histogram": [
           {
            "marker": {
             "pattern": {
              "fillmode": "overlay",
              "size": 10,
              "solidity": 0.2
             }
            },
            "type": "histogram"
           }
          ],
          "histogram2d": [
           {
            "colorbar": {
             "outlinewidth": 0,
             "ticks": ""
            },
            "colorscale": [
             [
              0,
              "#0d0887"
             ],
             [
              0.1111111111111111,
              "#46039f"
             ],
             [
              0.2222222222222222,
              "#7201a8"
             ],
             [
              0.3333333333333333,
              "#9c179e"
             ],
             [
              0.4444444444444444,
              "#bd3786"
             ],
             [
              0.5555555555555556,
              "#d8576b"
             ],
             [
              0.6666666666666666,
              "#ed7953"
             ],
             [
              0.7777777777777778,
              "#fb9f3a"
             ],
             [
              0.8888888888888888,
              "#fdca26"
             ],
             [
              1,
              "#f0f921"
             ]
            ],
            "type": "histogram2d"
           }
          ],
          "histogram2dcontour": [
           {
            "colorbar": {
             "outlinewidth": 0,
             "ticks": ""
            },
            "colorscale": [
             [
              0,
              "#0d0887"
             ],
             [
              0.1111111111111111,
              "#46039f"
             ],
             [
              0.2222222222222222,
              "#7201a8"
             ],
             [
              0.3333333333333333,
              "#9c179e"
             ],
             [
              0.4444444444444444,
              "#bd3786"
             ],
             [
              0.5555555555555556,
              "#d8576b"
             ],
             [
              0.6666666666666666,
              "#ed7953"
             ],
             [
              0.7777777777777778,
              "#fb9f3a"
             ],
             [
              0.8888888888888888,
              "#fdca26"
             ],
             [
              1,
              "#f0f921"
             ]
            ],
            "type": "histogram2dcontour"
           }
          ],
          "mesh3d": [
           {
            "colorbar": {
             "outlinewidth": 0,
             "ticks": ""
            },
            "type": "mesh3d"
           }
          ],
          "parcoords": [
           {
            "line": {
             "colorbar": {
              "outlinewidth": 0,
              "ticks": ""
             }
            },
            "type": "parcoords"
           }
          ],
          "pie": [
           {
            "automargin": true,
            "type": "pie"
           }
          ],
          "scatter": [
           {
            "fillpattern": {
             "fillmode": "overlay",
             "size": 10,
             "solidity": 0.2
            },
            "type": "scatter"
           }
          ],
          "scatter3d": [
           {
            "line": {
             "colorbar": {
              "outlinewidth": 0,
              "ticks": ""
             }
            },
            "marker": {
             "colorbar": {
              "outlinewidth": 0,
              "ticks": ""
             }
            },
            "type": "scatter3d"
           }
          ],
          "scattercarpet": [
           {
            "marker": {
             "colorbar": {
              "outlinewidth": 0,
              "ticks": ""
             }
            },
            "type": "scattercarpet"
           }
          ],
          "scattergeo": [
           {
            "marker": {
             "colorbar": {
              "outlinewidth": 0,
              "ticks": ""
             }
            },
            "type": "scattergeo"
           }
          ],
          "scattergl": [
           {
            "marker": {
             "colorbar": {
              "outlinewidth": 0,
              "ticks": ""
             }
            },
            "type": "scattergl"
           }
          ],
          "scattermap": [
           {
            "marker": {
             "colorbar": {
              "outlinewidth": 0,
              "ticks": ""
             }
            },
            "type": "scattermap"
           }
          ],
          "scattermapbox": [
           {
            "marker": {
             "colorbar": {
              "outlinewidth": 0,
              "ticks": ""
             }
            },
            "type": "scattermapbox"
           }
          ],
          "scatterpolar": [
           {
            "marker": {
             "colorbar": {
              "outlinewidth": 0,
              "ticks": ""
             }
            },
            "type": "scatterpolar"
           }
          ],
          "scatterpolargl": [
           {
            "marker": {
             "colorbar": {
              "outlinewidth": 0,
              "ticks": ""
             }
            },
            "type": "scatterpolargl"
           }
          ],
          "scatterternary": [
           {
            "marker": {
             "colorbar": {
              "outlinewidth": 0,
              "ticks": ""
             }
            },
            "type": "scatterternary"
           }
          ],
          "surface": [
           {
            "colorbar": {
             "outlinewidth": 0,
             "ticks": ""
            },
            "colorscale": [
             [
              0,
              "#0d0887"
             ],
             [
              0.1111111111111111,
              "#46039f"
             ],
             [
              0.2222222222222222,
              "#7201a8"
             ],
             [
              0.3333333333333333,
              "#9c179e"
             ],
             [
              0.4444444444444444,
              "#bd3786"
             ],
             [
              0.5555555555555556,
              "#d8576b"
             ],
             [
              0.6666666666666666,
              "#ed7953"
             ],
             [
              0.7777777777777778,
              "#fb9f3a"
             ],
             [
              0.8888888888888888,
              "#fdca26"
             ],
             [
              1,
              "#f0f921"
             ]
            ],
            "type": "surface"
           }
          ],
          "table": [
           {
            "cells": {
             "fill": {
              "color": "#EBF0F8"
             },
             "line": {
              "color": "white"
             }
            },
            "header": {
             "fill": {
              "color": "#C8D4E3"
             },
             "line": {
              "color": "white"
             }
            },
            "type": "table"
           }
          ]
         },
         "layout": {
          "annotationdefaults": {
           "arrowcolor": "#2a3f5f",
           "arrowhead": 0,
           "arrowwidth": 1
          },
          "autotypenumbers": "strict",
          "coloraxis": {
           "colorbar": {
            "outlinewidth": 0,
            "ticks": ""
           }
          },
          "colorscale": {
           "diverging": [
            [
             0,
             "#8e0152"
            ],
            [
             0.1,
             "#c51b7d"
            ],
            [
             0.2,
             "#de77ae"
            ],
            [
             0.3,
             "#f1b6da"
            ],
            [
             0.4,
             "#fde0ef"
            ],
            [
             0.5,
             "#f7f7f7"
            ],
            [
             0.6,
             "#e6f5d0"
            ],
            [
             0.7,
             "#b8e186"
            ],
            [
             0.8,
             "#7fbc41"
            ],
            [
             0.9,
             "#4d9221"
            ],
            [
             1,
             "#276419"
            ]
           ],
           "sequential": [
            [
             0,
             "#0d0887"
            ],
            [
             0.1111111111111111,
             "#46039f"
            ],
            [
             0.2222222222222222,
             "#7201a8"
            ],
            [
             0.3333333333333333,
             "#9c179e"
            ],
            [
             0.4444444444444444,
             "#bd3786"
            ],
            [
             0.5555555555555556,
             "#d8576b"
            ],
            [
             0.6666666666666666,
             "#ed7953"
            ],
            [
             0.7777777777777778,
             "#fb9f3a"
            ],
            [
             0.8888888888888888,
             "#fdca26"
            ],
            [
             1,
             "#f0f921"
            ]
           ],
           "sequentialminus": [
            [
             0,
             "#0d0887"
            ],
            [
             0.1111111111111111,
             "#46039f"
            ],
            [
             0.2222222222222222,
             "#7201a8"
            ],
            [
             0.3333333333333333,
             "#9c179e"
            ],
            [
             0.4444444444444444,
             "#bd3786"
            ],
            [
             0.5555555555555556,
             "#d8576b"
            ],
            [
             0.6666666666666666,
             "#ed7953"
            ],
            [
             0.7777777777777778,
             "#fb9f3a"
            ],
            [
             0.8888888888888888,
             "#fdca26"
            ],
            [
             1,
             "#f0f921"
            ]
           ]
          },
          "colorway": [
           "#636efa",
           "#EF553B",
           "#00cc96",
           "#ab63fa",
           "#FFA15A",
           "#19d3f3",
           "#FF6692",
           "#B6E880",
           "#FF97FF",
           "#FECB52"
          ],
          "font": {
           "color": "#2a3f5f"
          },
          "geo": {
           "bgcolor": "white",
           "lakecolor": "white",
           "landcolor": "#E5ECF6",
           "showlakes": true,
           "showland": true,
           "subunitcolor": "white"
          },
          "hoverlabel": {
           "align": "left"
          },
          "hovermode": "closest",
          "mapbox": {
           "style": "light"
          },
          "paper_bgcolor": "white",
          "plot_bgcolor": "#E5ECF6",
          "polar": {
           "angularaxis": {
            "gridcolor": "white",
            "linecolor": "white",
            "ticks": ""
           },
           "bgcolor": "#E5ECF6",
           "radialaxis": {
            "gridcolor": "white",
            "linecolor": "white",
            "ticks": ""
           }
          },
          "scene": {
           "xaxis": {
            "backgroundcolor": "#E5ECF6",
            "gridcolor": "white",
            "gridwidth": 2,
            "linecolor": "white",
            "showbackground": true,
            "ticks": "",
            "zerolinecolor": "white"
           },
           "yaxis": {
            "backgroundcolor": "#E5ECF6",
            "gridcolor": "white",
            "gridwidth": 2,
            "linecolor": "white",
            "showbackground": true,
            "ticks": "",
            "zerolinecolor": "white"
           },
           "zaxis": {
            "backgroundcolor": "#E5ECF6",
            "gridcolor": "white",
            "gridwidth": 2,
            "linecolor": "white",
            "showbackground": true,
            "ticks": "",
            "zerolinecolor": "white"
           }
          },
          "shapedefaults": {
           "line": {
            "color": "#2a3f5f"
           }
          },
          "ternary": {
           "aaxis": {
            "gridcolor": "white",
            "linecolor": "white",
            "ticks": ""
           },
           "baxis": {
            "gridcolor": "white",
            "linecolor": "white",
            "ticks": ""
           },
           "bgcolor": "#E5ECF6",
           "caxis": {
            "gridcolor": "white",
            "linecolor": "white",
            "ticks": ""
           }
          },
          "title": {
           "x": 0.05
          },
          "xaxis": {
           "automargin": true,
           "gridcolor": "white",
           "linecolor": "white",
           "ticks": "",
           "title": {
            "standoff": 15
           },
           "zerolinecolor": "white",
           "zerolinewidth": 2
          },
          "yaxis": {
           "automargin": true,
           "gridcolor": "white",
           "linecolor": "white",
           "ticks": "",
           "title": {
            "standoff": 15
           },
           "zerolinecolor": "white",
           "zerolinewidth": 2
          }
         }
        },
        "xaxis": {
         "anchor": "y",
         "domain": [
          0,
          1
         ],
         "title": {
          "text": "seniority_level"
         }
        },
        "yaxis": {
         "anchor": "x",
         "domain": [
          0,
          1
         ],
         "title": {
          "text": "salary"
         }
        }
       }
      }
     },
     "metadata": {},
     "output_type": "display_data"
    }
   ],
   "source": [
    "salaryDist = copydf[[\"seniority_level\",\"salary_range\", \"salary\"]]\n",
    "salaryDist = salaryDist[salaryDist[\"salary\"] <= 500000]\n",
    "\n",
    "fig3 = px.scatter(salaryDist, x=\"seniority_level\", y=\"salary\") \n",
    "\n",
    "# showing the plot\n",
    "fig3.show()"
   ]
  }
 ],
 "metadata": {
  "kernelspec": {
   "display_name": "Python 3",
   "language": "python",
   "name": "python3"
  },
  "language_info": {
   "codemirror_mode": {
    "name": "ipython",
    "version": 3
   },
   "file_extension": ".py",
   "mimetype": "text/x-python",
   "name": "python",
   "nbconvert_exporter": "python",
   "pygments_lexer": "ipython3",
   "version": "3.11.9"
  }
 },
 "nbformat": 4,
 "nbformat_minor": 5
}
